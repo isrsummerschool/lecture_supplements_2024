{
 "cells": [
  {
   "cell_type": "markdown",
   "metadata": {},
   "source": [
    "# Interactive plotter for theoretical incoherent scatter power spectrum and ACF"
   ]
  },
  {
   "cell_type": "code",
   "execution_count": 1,
   "metadata": {},
   "outputs": [],
   "source": [
    "import ipywidgets as widgets\n",
    "from ipywidgets import interact_manual, fixed\n",
    "import numpy\n",
    "import pylab as plt"
   ]
  },
  {
   "cell_type": "code",
   "execution_count": 2,
   "metadata": {},
   "outputs": [],
   "source": [
    "def plot_is_spec_and_acf(indict, ne, te, ti, frac_2, vi, tau_max, freq_max):\n",
    "    \"\"\"\n",
    "    Plot incoherent scatter power spectrum and ACF given input plasma parameters.\n",
    "    \n",
    "    indict: Dictionary of input parameters\n",
    "    ne: electron density, m^-3\n",
    "    te: electron temperature, K\n",
    "    ti: ion temperature, K\n",
    "    frac_2: fraction of ion #2\n",
    "    vi: line-of-sight velocity, m/s\n",
    "    tau_max: maximum lag for ACF plot, sec\n",
    "    freq_max: maximum frequency for spectral plot, Hz \"\"\"\n",
    "    \n",
    "    import ismodel\n",
    "    \n",
    "    cspec = ismodel.ISspec(indict, \n",
    "                           emode=[1,1,1],  # On: Magnetic field, Coulomb collisions, BGK ion-neutral collisions\n",
    "                           imode=[1,1,1],  # On: Magnetic field, Coulomb collisions, BGK ion-neutral collisions\n",
    "                           Nfreq=127,      # number of points in power spectrum\n",
    "                           czparams=(1e-6,2e5,100,10,1.0)) # Gordeyev integral parameters (leave unaltered)\n",
    "\n",
    "    # adjust for desired parameters\n",
    "    adjdict = {'ne':ne,\n",
    "               'te':te,\n",
    "               'ti':ti*numpy.ones(2),\n",
    "               've':vi,\n",
    "               'vi':vi*numpy.ones(2),\n",
    "               'ni':numpy.array([1.0-frac_2,frac_2])}\n",
    "    cspec.adjustParams(adjdict)\n",
    "\n",
    "    # compute spectrum, ACF\n",
    "    ff,spec,tau,acf = cspec.computeSpec()\n",
    "    \n",
    "    # plot it\n",
    "    f, ax = plt.subplots(1,2,figsize=(12,6))\n",
    "    \n",
    "    # power spectrum vs frequency\n",
    "    ax[0].plot(ff/1e3, spec, 'k')\n",
    "    ax[0].set_xlim(-freq_max/1e3,freq_max/1e3)\n",
    "    ax[0].set_xlabel('Frequency (kHz)')\n",
    "    ax[0].set_ylabel('Power Spectrum')\n",
    "    ax[0].set_title('Mi = %s AMU  %% = %s' % (str(indict['mi']), str(adjdict['ni'])))\n",
    "    ax[0].grid()\n",
    "    \n",
    "    # Real, imag part of ACF vs lag (tau)\n",
    "    # Only plot 1/4 of the positive half of the ACF;\n",
    "    # zero lag is 1/2 way into the ACF array (starts with most negative lag)\n",
    "    tau0 = int(acf.shape[0]/2)\n",
    "    tau1 = tau0 + int(acf.shape[0]/4)\n",
    "    ax[1].plot(tau[tau0:tau1]*1e6, acf[tau0:tau1].real, 'r', label='Real')\n",
    "    ax[1].plot(tau[tau0:tau1]*1e6, acf[tau0:tau1].imag, 'b', label='Imag')\n",
    "    ax[1].grid()\n",
    "    ax[1].set_xlim(0,tau_max*1e6)\n",
    "    ax[1].set_xlabel('Lag Time (usec)')\n",
    "    ax[1].set_ylabel('ACF')\n",
    "    ax[1].legend()\n",
    "    plt.show()"
   ]
  },
  {
   "cell_type": "markdown",
   "metadata": {},
   "source": [
    "### Please note:\n",
    "\n",
    "The parameters in \"indict\" are **not** on sliders.  For the exercises, some of these parameters will need to be edited by hand.  Don't forget to execute the code block below again after you've edited before running the interactive portion!"
   ]
  },
  {
   "cell_type": "code",
   "execution_count": 3,
   "metadata": {},
   "outputs": [],
   "source": [
    "# set fixed parameters\n",
    "indict={'Nion': 2, # number of ions \\\n",
    "      'mi': numpy.array([16, 30]), # list of ion masses, AMU \\\n",
    "      'B': 5e-5, # backgrond magnetic field, Tesla \\\n",
    "      'f0': 440.2e6, # Millstone Hill radar frequency, Hz \\\n",
    "      'te': 1000.0, # electron temperature, K \\\n",
    "      'alpha': 60.0, # angle between look direction and magnetic field, deg (90 = perp to B) \\\n",
    "      'ne': 1e11, # electron density, m^-3 \\\n",
    "      'ti': numpy.array([1000.0, 1000.0]), # ion temperature, K \\\n",
    "      'ni': numpy.array([1.0, 0.0]), # list of ion fractions (sum must = 1) \\\n",
    "      've': 0.0, # electron velocity, m/s \\\n",
    "      'vi': numpy.array([0.0, 0.0]), # ion velocity, m/s \\\n",
    "      'nuen': 0.0, # electron-neutral collision frequency, Hz \\\n",
    "      'nuin': numpy.array([0.0, 0.0]) # ion-neutral collision frequency, Hz \\\n",
    "       }"
   ]
  },
  {
   "cell_type": "markdown",
   "metadata": {},
   "source": [
    "### Run this block to make interactive plots with sliders."
   ]
  },
  {
   "cell_type": "code",
   "execution_count": 5,
   "metadata": {},
   "outputs": [
    {
     "data": {
      "application/vnd.jupyter.widget-view+json": {
       "model_id": "16e65daf03f447bfa401c5780d7f010b",
       "version_major": 2,
       "version_minor": 0
      },
      "text/plain": [
       "interactive(children=(FloatLogSlider(value=100000000000.0, description='ne', max=12.0, min=11.0), FloatSlider(…"
      ]
     },
     "metadata": {},
     "output_type": "display_data"
    }
   ],
   "source": [
    "p = interact_manual(plot_is_spec_and_acf, \n",
    "             indict=fixed(indict),\n",
    "             te=widgets.FloatSlider(1000,min=250,max=3000,step=50),\n",
    "             ti=widgets.FloatSlider(1000,min=250,max=3000,step=50),\n",
    "             ne=widgets.FloatLogSlider(1e11,base=10,min=11,max=12,step=0.1),\n",
    "             vi=widgets.FloatSlider(0.0,min=0.0,max=1000.0,step=50),\n",
    "             frac_2=widgets.FloatSlider(0.0,min=0.0,max=1.0,step=0.1),\n",
    "             tau_max=fixed(500e-6),\n",
    "             freq_max=fixed(10e3))"
   ]
  },
  {
   "cell_type": "markdown",
   "metadata": {},
   "source": [
    "## Group exercises:\n",
    "\n",
    "1. What is the effect of very large Te compared to Ti?  Can you relate the spectral shape and ACF to the principles in the “Signal Processing” lectures?  Examine the zero crossing of the ACF.  How does it relate to the spectral width?\n",
    "\n",
    "2. Alter the notebook so you are using two ion species in the topside ionosphere: O+ (AMU=16) and H+ (AMU=1).  Examine the 100% O+ and 100% H+ cases.  Try to produce a parameter set using all the “knobs” for 100% H+ that looks spectrally (or in ACF) like 100% O+.  How can this behavior be related to the ion-acoustic dispersion relation?  What conclusion can you draw about determining ion composition and determining plasma temperature at the same time with an IS radar?\n",
    "\n",
    "3. Use the default case of two ion species: O+ (AMU=16) and NO+ (AMU=30).  Examine 100% O+ and 100% NO+ cases.  Try to produce a NO+ only parameter set using all the “knobs” that looks spectrally like O+.  How different are the parameter sets?  What conclusion can you draw regarding the ease (or difficulty) of remote sensing of NO+ vs. remote sensing of O+?\n",
    "\n",
    "4. Use default parameters but introduce a non-zero velocity.  Can you explain the characteristics of the resulting complex ACF shape as well as the power spectrum?\n",
    "\n",
    "5. Alter the notebook so you are using two ion species in the topside ionosphere: O+ (AMU=16) and H+ (AMU=1).  Examine three cases: 100% O+, 100% H+, and 50% of each species.  What are the characteristics of each case in the spectral and ACF domains?  How does this result demonstrate collective plasma behavior?\n",
    "\n",
    "6. Change the transmit frequency from Millstone Hill (440.2 MHz) to Jicamarca (49.92 MHz).  What effect does this have on the power spectrum?  On the ACF?  Can you draw a conclusion regarding the length of pulse one would use at each facility to measure the IS power spectrum?\n"
   ]
  },
  {
   "cell_type": "code",
   "execution_count": null,
   "metadata": {},
   "outputs": [],
   "source": []
  }
 ],
 "metadata": {
  "kernelspec": {
   "display_name": "Python 3 (ipykernel)",
   "language": "python",
   "name": "python3"
  },
  "language_info": {
   "codemirror_mode": {
    "name": "ipython",
    "version": 3
   },
   "file_extension": ".py",
   "mimetype": "text/x-python",
   "name": "python",
   "nbconvert_exporter": "python",
   "pygments_lexer": "ipython3",
   "version": "3.8.12"
  }
 },
 "nbformat": 4,
 "nbformat_minor": 4
}
