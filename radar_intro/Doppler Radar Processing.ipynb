{
 "cells": [
  {
   "cell_type": "markdown",
   "id": "0cf30d62-2378-4b57-9a56-774cea3754d6",
   "metadata": {
    "tags": []
   },
   "source": [
    "## Doppler Radar Processing \n"
   ]
  },
  {
   "cell_type": "markdown",
   "id": "2660e8e7-19ff-4394-9b2b-d6521ec595f9",
   "metadata": {},
   "source": [
    "There is a policeman pointing a small transportable Doppler radar at your car as it is coming towards him.\n",
    "\n",
    "The transmitter signal, $T_x$ at frequency $f_0$ is given by:\n",
    "    \n",
    "$$ T_x = cos{2\\pi f_0 t} $$\n",
    "\n",
    "Your car is traveling at a constant velocity $v$ towards the policeman's radar.\n",
    "\n",
    "The return signal, $R_x$, can be written as\n",
    "\n",
    "$$ R_x = cos(2\\pi f_0 (t + 2 R/c)) $$\n",
    "\n",
    "## Assignment no. 1 ##\n",
    "Explain why this is $2R/c$.  Does the target have to be moving for this to be $2R/c$ ?\n",
    "\n",
    "\n"
   ]
  },
  {
   "cell_type": "markdown",
   "id": "e850248a-be15-4e81-a532-9debf92e43ee",
   "metadata": {},
   "source": [
    "For a moving target with constant velocity, $2R/c$ can be written as $R$ = $R_o$ + $v_o$t \n",
    "\n",
    "Put this back into equation for $R_x$\n",
    "\n",
    "$$ R_x = cos(2\\pi (f_0 t + (2R_0 f_0)/c + (2v_0 f_0t)/c)$$\n",
    "             \n",
    "$$ R_x = cos(2\\pi [(f_0 + 2 v_0 f_0/c)t  + (2R_0 f_0)/c]) $$"
   ]
  },
  {
   "cell_type": "markdown",
   "id": "d85f90ab-06bf-4fd9-ae17-6adf7b9383de",
   "metadata": {},
   "source": [
    "## Assignment no. 2 ##\n",
    "\n",
    "what is the Doppler velocity here? Is the math correct?  What happens if something is accelerating towards you?"
   ]
  }
 ],
 "metadata": {
  "kernelspec": {
   "display_name": "Python 3 (ipykernel)",
   "language": "python",
   "name": "python3"
  },
  "language_info": {
   "codemirror_mode": {
    "name": "ipython",
    "version": 3
   },
   "file_extension": ".py",
   "mimetype": "text/x-python",
   "name": "python",
   "nbconvert_exporter": "python",
   "pygments_lexer": "ipython3",
   "version": "3.8.13"
  }
 },
 "nbformat": 4,
 "nbformat_minor": 5
}
